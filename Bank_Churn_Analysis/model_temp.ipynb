{
 "cells": [
  {
   "attachments": {},
   "cell_type": "markdown",
   "metadata": {},
   "source": [
    "<h3>Import Libraries</h3>"
   ]
  },
  {
   "cell_type": "code",
   "execution_count": 91,
   "metadata": {},
   "outputs": [],
   "source": [
    "import pandas as pd\n",
    "from sklearn import metrics\n",
    "import numpy as np\n",
    "from sklearn.model_selection import train_test_split\n",
    "from sklearn.metrics import recall_score\n",
    "from sklearn.metrics import classification_report\n",
    "from sklearn.metrics import confusion_matrix\n",
    "import lightgbm as lgb\n",
    "from imblearn.combine import SMOTEENN\n",
    "import plotly.express as px"
   ]
  },
  {
   "cell_type": "code",
   "execution_count": 59,
   "metadata": {},
   "outputs": [
    {
     "data": {
      "text/html": [
       "<div>\n",
       "<style scoped>\n",
       "    .dataframe tbody tr th:only-of-type {\n",
       "        vertical-align: middle;\n",
       "    }\n",
       "\n",
       "    .dataframe tbody tr th {\n",
       "        vertical-align: top;\n",
       "    }\n",
       "\n",
       "    .dataframe thead th {\n",
       "        text-align: right;\n",
       "    }\n",
       "</style>\n",
       "<table border=\"1\" class=\"dataframe\">\n",
       "  <thead>\n",
       "    <tr style=\"text-align: right;\">\n",
       "      <th></th>\n",
       "      <th>CreditScore</th>\n",
       "      <th>Tenure</th>\n",
       "      <th>Balance</th>\n",
       "      <th>NumOfProducts</th>\n",
       "      <th>HasCrCard</th>\n",
       "      <th>IsActiveMember</th>\n",
       "      <th>EstimatedSalary</th>\n",
       "      <th>target</th>\n",
       "      <th>Complain</th>\n",
       "      <th>Satisfaction Score</th>\n",
       "      <th>...</th>\n",
       "      <th>Age_group_81-90</th>\n",
       "      <th>Age_group_91-100</th>\n",
       "      <th>CreditScore_group_350-450</th>\n",
       "      <th>CreditScore_group_451-550</th>\n",
       "      <th>CreditScore_group_551-650</th>\n",
       "      <th>CreditScore_group_651-850</th>\n",
       "      <th>EstimatedSalary_group_0-50000</th>\n",
       "      <th>EstimatedSalary_group_51000-100000</th>\n",
       "      <th>EstimatedSalary_group_100001-150000</th>\n",
       "      <th>EstimatedSalary_group_150001-200000</th>\n",
       "    </tr>\n",
       "  </thead>\n",
       "  <tbody>\n",
       "    <tr>\n",
       "      <th>0</th>\n",
       "      <td>619</td>\n",
       "      <td>2</td>\n",
       "      <td>0.00</td>\n",
       "      <td>1</td>\n",
       "      <td>1</td>\n",
       "      <td>1</td>\n",
       "      <td>101348.88</td>\n",
       "      <td>1</td>\n",
       "      <td>1</td>\n",
       "      <td>2</td>\n",
       "      <td>...</td>\n",
       "      <td>0</td>\n",
       "      <td>0</td>\n",
       "      <td>0</td>\n",
       "      <td>0</td>\n",
       "      <td>1</td>\n",
       "      <td>0</td>\n",
       "      <td>0</td>\n",
       "      <td>0</td>\n",
       "      <td>1</td>\n",
       "      <td>0</td>\n",
       "    </tr>\n",
       "    <tr>\n",
       "      <th>1</th>\n",
       "      <td>608</td>\n",
       "      <td>1</td>\n",
       "      <td>83807.86</td>\n",
       "      <td>1</td>\n",
       "      <td>0</td>\n",
       "      <td>1</td>\n",
       "      <td>112542.58</td>\n",
       "      <td>0</td>\n",
       "      <td>1</td>\n",
       "      <td>3</td>\n",
       "      <td>...</td>\n",
       "      <td>0</td>\n",
       "      <td>0</td>\n",
       "      <td>0</td>\n",
       "      <td>0</td>\n",
       "      <td>1</td>\n",
       "      <td>0</td>\n",
       "      <td>0</td>\n",
       "      <td>0</td>\n",
       "      <td>1</td>\n",
       "      <td>0</td>\n",
       "    </tr>\n",
       "    <tr>\n",
       "      <th>2</th>\n",
       "      <td>502</td>\n",
       "      <td>8</td>\n",
       "      <td>159660.80</td>\n",
       "      <td>3</td>\n",
       "      <td>1</td>\n",
       "      <td>0</td>\n",
       "      <td>113931.57</td>\n",
       "      <td>1</td>\n",
       "      <td>1</td>\n",
       "      <td>3</td>\n",
       "      <td>...</td>\n",
       "      <td>0</td>\n",
       "      <td>0</td>\n",
       "      <td>0</td>\n",
       "      <td>1</td>\n",
       "      <td>0</td>\n",
       "      <td>0</td>\n",
       "      <td>0</td>\n",
       "      <td>0</td>\n",
       "      <td>1</td>\n",
       "      <td>0</td>\n",
       "    </tr>\n",
       "    <tr>\n",
       "      <th>3</th>\n",
       "      <td>699</td>\n",
       "      <td>1</td>\n",
       "      <td>0.00</td>\n",
       "      <td>2</td>\n",
       "      <td>0</td>\n",
       "      <td>0</td>\n",
       "      <td>93826.63</td>\n",
       "      <td>0</td>\n",
       "      <td>0</td>\n",
       "      <td>5</td>\n",
       "      <td>...</td>\n",
       "      <td>0</td>\n",
       "      <td>0</td>\n",
       "      <td>0</td>\n",
       "      <td>0</td>\n",
       "      <td>0</td>\n",
       "      <td>1</td>\n",
       "      <td>0</td>\n",
       "      <td>1</td>\n",
       "      <td>0</td>\n",
       "      <td>0</td>\n",
       "    </tr>\n",
       "    <tr>\n",
       "      <th>4</th>\n",
       "      <td>850</td>\n",
       "      <td>2</td>\n",
       "      <td>125510.82</td>\n",
       "      <td>1</td>\n",
       "      <td>1</td>\n",
       "      <td>1</td>\n",
       "      <td>79084.10</td>\n",
       "      <td>0</td>\n",
       "      <td>0</td>\n",
       "      <td>5</td>\n",
       "      <td>...</td>\n",
       "      <td>0</td>\n",
       "      <td>0</td>\n",
       "      <td>0</td>\n",
       "      <td>0</td>\n",
       "      <td>0</td>\n",
       "      <td>1</td>\n",
       "      <td>0</td>\n",
       "      <td>1</td>\n",
       "      <td>0</td>\n",
       "      <td>0</td>\n",
       "    </tr>\n",
       "  </tbody>\n",
       "</table>\n",
       "<p>5 rows × 36 columns</p>\n",
       "</div>"
      ],
      "text/plain": [
       "   CreditScore  Tenure   Balance  NumOfProducts  HasCrCard  IsActiveMember  \\\n",
       "0          619       2      0.00              1          1               1   \n",
       "1          608       1  83807.86              1          0               1   \n",
       "2          502       8 159660.80              3          1               0   \n",
       "3          699       1      0.00              2          0               0   \n",
       "4          850       2 125510.82              1          1               1   \n",
       "\n",
       "   EstimatedSalary  target  Complain  Satisfaction Score  ...  \\\n",
       "0        101348.88       1         1                   2  ...   \n",
       "1        112542.58       0         1                   3  ...   \n",
       "2        113931.57       1         1                   3  ...   \n",
       "3         93826.63       0         0                   5  ...   \n",
       "4         79084.10       0         0                   5  ...   \n",
       "\n",
       "   Age_group_81-90  Age_group_91-100  CreditScore_group_350-450  \\\n",
       "0                0                 0                          0   \n",
       "1                0                 0                          0   \n",
       "2                0                 0                          0   \n",
       "3                0                 0                          0   \n",
       "4                0                 0                          0   \n",
       "\n",
       "   CreditScore_group_451-550  CreditScore_group_551-650  \\\n",
       "0                          0                          1   \n",
       "1                          0                          1   \n",
       "2                          1                          0   \n",
       "3                          0                          0   \n",
       "4                          0                          0   \n",
       "\n",
       "   CreditScore_group_651-850  EstimatedSalary_group_0-50000  \\\n",
       "0                          0                              0   \n",
       "1                          0                              0   \n",
       "2                          0                              0   \n",
       "3                          1                              0   \n",
       "4                          1                              0   \n",
       "\n",
       "   EstimatedSalary_group_51000-100000  EstimatedSalary_group_100001-150000  \\\n",
       "0                                   0                                    1   \n",
       "1                                   0                                    1   \n",
       "2                                   0                                    1   \n",
       "3                                   1                                    0   \n",
       "4                                   1                                    0   \n",
       "\n",
       "   EstimatedSalary_group_150001-200000  \n",
       "0                                    0  \n",
       "1                                    0  \n",
       "2                                    0  \n",
       "3                                    0  \n",
       "4                                    0  \n",
       "\n",
       "[5 rows x 36 columns]"
      ]
     },
     "execution_count": 59,
     "metadata": {},
     "output_type": "execute_result"
    }
   ],
   "source": [
    "# read csv file\n",
    "df = pd.read_csv('bank_churn.csv')\n",
    "df.head()"
   ]
  },
  {
   "cell_type": "code",
   "execution_count": 60,
   "metadata": {},
   "outputs": [
    {
     "data": {
      "text/plain": [
       "Index(['CreditScore', 'Tenure', 'Balance', 'NumOfProducts', 'HasCrCard',\n",
       "       'IsActiveMember', 'EstimatedSalary', 'target', 'Complain',\n",
       "       'Satisfaction Score', 'Point Earned', 'Geography_France',\n",
       "       'Geography_Germany', 'Geography_Spain', 'Gender_Female', 'Gender_Male',\n",
       "       'Card Type_DIAMOND', 'Card Type_GOLD', 'Card Type_PLATINUM',\n",
       "       'Card Type_SILVER', 'Age_group_18-30', 'Age_group_31-40',\n",
       "       'Age_group_41-50', 'Age_group_51-60', 'Age_group_61-70',\n",
       "       'Age_group_71-80', 'Age_group_81-90', 'Age_group_91-100',\n",
       "       'CreditScore_group_350-450', 'CreditScore_group_451-550',\n",
       "       'CreditScore_group_551-650', 'CreditScore_group_651-850',\n",
       "       'EstimatedSalary_group_0-50000', 'EstimatedSalary_group_51000-100000',\n",
       "       'EstimatedSalary_group_100001-150000',\n",
       "       'EstimatedSalary_group_150001-200000'],\n",
       "      dtype='object')"
      ]
     },
     "execution_count": 60,
     "metadata": {},
     "output_type": "execute_result"
    }
   ],
   "source": [
    "df.columns"
   ]
  },
  {
   "attachments": {},
   "cell_type": "markdown",
   "metadata": {},
   "source": [
    "<h4>creating x and y variables</h4>"
   ]
  },
  {
   "cell_type": "code",
   "execution_count": 113,
   "metadata": {},
   "outputs": [],
   "source": [
    "X = df.drop(columns=['target','Complain'],axis=1)\n",
    "Y = df['target']"
   ]
  },
  {
   "cell_type": "code",
   "execution_count": 128,
   "metadata": {},
   "outputs": [
    {
     "data": {
      "text/plain": [
       "(10000, 36)"
      ]
     },
     "execution_count": 128,
     "metadata": {},
     "output_type": "execute_result"
    }
   ],
   "source": [
    "df.shape"
   ]
  },
  {
   "attachments": {},
   "cell_type": "markdown",
   "metadata": {},
   "source": [
    "### Train Test split\n"
   ]
  },
  {
   "cell_type": "code",
   "execution_count": 114,
   "metadata": {},
   "outputs": [],
   "source": [
    "x_train,x_test,y_train,y_test = train_test_split(X,Y,test_size = 0.2)"
   ]
  },
  {
   "attachments": {},
   "cell_type": "markdown",
   "metadata": {},
   "source": [
    "### LGBMClassifier\n"
   ]
  },
  {
   "cell_type": "code",
   "execution_count": 115,
   "metadata": {},
   "outputs": [
    {
     "name": "stdout",
     "output_type": "stream",
     "text": [
      "[LightGBM] [Warning] Unknown parameter: criterion\n",
      "[LightGBM] [Warning] min_data_in_leaf is set with min_child_samples=20, will be overridden by min_samples_leaf=8. Current value: min_data_in_leaf=8\n"
     ]
    },
    {
     "data": {
      "text/plain": [
       "array([0, 0, 0, ..., 0, 0, 0], dtype=int64)"
      ]
     },
     "execution_count": 115,
     "metadata": {},
     "output_type": "execute_result"
    }
   ],
   "source": [
    "lgb_model = lgb.LGBMClassifier(criterion='gini',random_state=100,max_depth=6,min_samples_leaf=8)\n",
    "lgb_model.fit(x_train,y_train)\n",
    "y_pred = lgb_model.predict(x_test)\n",
    "y_pred"
   ]
  },
  {
   "cell_type": "code",
   "execution_count": 116,
   "metadata": {},
   "outputs": [
    {
     "name": "stdout",
     "output_type": "stream",
     "text": [
      "              precision    recall  f1-score   support\n",
      "\n",
      "           0       0.88      0.96      0.92      1604\n",
      "           1       0.75      0.45      0.56       396\n",
      "\n",
      "    accuracy                           0.86      2000\n",
      "   macro avg       0.82      0.71      0.74      2000\n",
      "weighted avg       0.85      0.86      0.85      2000\n",
      "\n"
     ]
    }
   ],
   "source": [
    "print(classification_report(y_test,y_pred,labels=[0,1]))  "
   ]
  },
  {
   "cell_type": "code",
   "execution_count": 117,
   "metadata": {},
   "outputs": [
    {
     "name": "stdout",
     "output_type": "stream",
     "text": [
      "[[1546   58]\n",
      " [ 218  178]]\n"
     ]
    }
   ],
   "source": [
    "print(confusion_matrix(y_test,y_pred))"
   ]
  },
  {
   "attachments": {},
   "cell_type": "markdown",
   "metadata": {},
   "source": [
    "####  ```We cannot use this model as the dataset is highly imbalanced so we will use: ``` \n",
    "###  SMOTE-ENN\n",
    "#### this method combines the SMOTE ability to generate synthetic examples for minority class and ENN ability to delete some observations from both classes that are identified as having different class between the observation’s class and its K-nearest neighbor majority class."
   ]
  },
  {
   "cell_type": "code",
   "execution_count": 118,
   "metadata": {},
   "outputs": [],
   "source": [
    "sm = SMOTEENN()\n",
    "x_resample,y_resampled = sm.fit_resample(X,Y)\n",
    "xs_train,xs_test,ys_train,ys_test = train_test_split(x_resample,y_resampled,test_size = 0.2)\n",
    "lgb_model_smote = lgb.LGBMClassifier()\n",
    "lgb_model_smote.fit(xs_train,ys_train)\n",
    "y_pred_smote_lgb = lgb_model_smote.predict(xs_test)\n"
   ]
  },
  {
   "attachments": {},
   "cell_type": "markdown",
   "metadata": {},
   "source": [
    "### score of decision tree classifier using SMOTE"
   ]
  },
  {
   "cell_type": "code",
   "execution_count": 119,
   "metadata": {},
   "outputs": [
    {
     "name": "stdout",
     "output_type": "stream",
     "text": [
      "              precision    recall  f1-score   support\n",
      "\n",
      "           0       0.86      0.94      0.90       610\n",
      "           1       0.95      0.88      0.92       798\n",
      "\n",
      "    accuracy                           0.91      1408\n",
      "   macro avg       0.91      0.91      0.91      1408\n",
      "weighted avg       0.91      0.91      0.91      1408\n",
      "\n"
     ]
    }
   ],
   "source": [
    "print(classification_report(ys_test,y_pred_smote_lgb,labels=[0,1]))"
   ]
  },
  {
   "attachments": {},
   "cell_type": "markdown",
   "metadata": {},
   "source": [
    "#### ``` The accuracy of the model changes with normal tran test split if you re-run the sell , therefore we will use cross-validation to find average```"
   ]
  },
  {
   "attachments": {},
   "cell_type": "markdown",
   "metadata": {},
   "source": [
    "### STRATIFIES K-FOLD CROSS VALIDATION { 10-fold }\n"
   ]
  },
  {
   "cell_type": "code",
   "execution_count": 124,
   "metadata": {},
   "outputs": [],
   "source": [
    "from statistics import mean, stdev\n",
    "from sklearn.model_selection import StratifiedKFold\n",
    "from sklearn.model_selection import cross_val_score\n",
    "skf = StratifiedKFold(n_splits=10, shuffle=True, random_state=1)\n",
    "scores = cross_val_score(lgb_model_smote,x_resample,y_resampled,cv=skf)"
   ]
  },
  {
   "cell_type": "code",
   "execution_count": 125,
   "metadata": {},
   "outputs": [
    {
     "name": "stdout",
     "output_type": "stream",
     "text": [
      "List of possible accuracy:\n",
      " [0.91619318 0.93039773 0.90767045 0.921875   0.90625    0.92329545\n",
      " 0.93323864 0.92471591 0.90753912 0.90042674]\n",
      "\n",
      "Maximum Accuracy That can be obtained from this model is: 93.32386363636364 %\n",
      "\n",
      "Minimum Accuracy That can be obtained from this model is: 90.04267425320057 %\n",
      "\n",
      "Overall Accuracy: 91.71602224233804 %\n",
      "\n",
      "Standard Deviation is: 0.011221528638467333\n"
     ]
    }
   ],
   "source": [
    "print('List of possible accuracy:\\n', scores)\n",
    "print('\\nMaximum Accuracy That can be obtained from this model is:',\n",
    "      max(scores)*100, '%')\n",
    "print('\\nMinimum Accuracy That can be obtained from this model is:',\n",
    "      min(scores)*100, '%')\n",
    "print('\\nOverall Accuracy:',\n",
    "      mean(scores)*100, '%')\n",
    "print('\\nStandard Deviation is:', stdev(scores))"
   ]
  },
  {
   "attachments": {},
   "cell_type": "markdown",
   "metadata": {},
   "source": [
    "##### ``` As we can observe that our overall Accuracy of the model is 91.716%```"
   ]
  },
  {
   "attachments": {},
   "cell_type": "markdown",
   "metadata": {},
   "source": [
    "### save the pickle\n"
   ]
  },
  {
   "cell_type": "code",
   "execution_count": 126,
   "metadata": {},
   "outputs": [],
   "source": [
    "import pickle\n",
    "filename = 'lgb_model_smote.sav'\n",
    "pickle.dump(lgb_model_smote,open(filename,'wb'))"
   ]
  }
 ],
 "metadata": {
  "kernelspec": {
   "display_name": "Python 3",
   "language": "python",
   "name": "python3"
  },
  "language_info": {
   "codemirror_mode": {
    "name": "ipython",
    "version": 3
   },
   "file_extension": ".py",
   "mimetype": "text/x-python",
   "name": "python",
   "nbconvert_exporter": "python",
   "pygments_lexer": "ipython3",
   "version": "3.9.10"
  },
  "orig_nbformat": 4,
  "vscode": {
   "interpreter": {
    "hash": "81794d4967e6c3204c66dcd87b604927b115b27c00565d3d43f05ba2f3a2cb0d"
   }
  }
 },
 "nbformat": 4,
 "nbformat_minor": 2
}
